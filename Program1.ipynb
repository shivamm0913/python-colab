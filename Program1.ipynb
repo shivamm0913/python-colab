{
  "cells": [
    {
      "cell_type": "markdown",
      "metadata": {
        "id": "view-in-github",
        "colab_type": "text"
      },
      "source": [
        "<a href=\"https://colab.research.google.com/github/shivamm0913/python-colab/blob/main/Program1.ipynb\" target=\"_parent\"><img src=\"https://colab.research.google.com/assets/colab-badge.svg\" alt=\"Open In Colab\"/></a>"
      ]
    },
    {
      "cell_type": "code",
      "execution_count": null,
      "metadata": {
        "id": "jvDGTFGOmZN9"
      },
      "outputs": [],
      "source": []
    },
    {
      "cell_type": "markdown",
      "metadata": {
        "id": "NaA-Uteqmps4"
      },
      "source": [
        "***This is a python program to add two numbers***"
      ]
    },
    {
      "cell_type": "code",
      "execution_count": null,
      "metadata": {
        "colab": {
          "base_uri": "https://localhost:8080/"
        },
        "id": "sIBZhbwYm6PX",
        "outputId": "22f314ed-5b36-40fe-f909-1b0444b23e6c"
      },
      "outputs": [
        {
          "name": "stdout",
          "output_type": "stream",
          "text": [
            "5\n"
          ]
        }
      ],
      "source": [
        "a=2\n",
        "b=3\n",
        "sum=a+b\n",
        "print(sum)"
      ]
    },
    {
      "cell_type": "code",
      "execution_count": null,
      "metadata": {
        "colab": {
          "base_uri": "https://localhost:8080/",
          "height": 217
        },
        "id": "CsT-m3IRrObg",
        "outputId": "8387486c-5db2-4aa5-db16-ed8d5a90778d"
      },
      "outputs": [
        {
          "data": {
            "image/jpeg": "[encoded data removed]",
            "text/plain": [
              "<IPython.core.display.Image object>"
            ]
          },
          "metadata": {},
          "output_type": "display_data"
        }
      ],
      "source": [
        "from IPython.display import Image\n",
        "image_path = '/content/download.jpg'\n",
        "display(Image(filename=image_path, width=300 , height=200))"
      ]
    },
    {
      "cell_type": "code",
      "execution_count": null,
      "metadata": {
        "id": "CZKg_JFJw2ts"
      },
      "outputs": [],
      "source": [
        "from google.colab import drive\n",
        "drive.mount('/content/drive')"
      ]
    },
    {
      "cell_type": "code",
      "execution_count": null,
      "metadata": {
        "colab": {
          "base_uri": "https://localhost:8080/"
        },
        "id": "AAaYLsHGrn4i",
        "outputId": "e9b02493-56dd-4be1-88f5-7a95485d007c"
      },
      "outputs": [
        {
          "name": "stdout",
          "output_type": "stream",
          "text": [
            "Hello World\n",
            "This is a multiline string.\n"
          ]
        }
      ],
      "source": [
        "text1 = \"Hello\"\n",
        "text2 = 'World'\n",
        "text3 = \"\"\"This is\n",
        "a multiline string.\"\"\"\n",
        "combined = text1 + \" \" + text2 + \"\\n\" + text3\n",
        "print(combined)"
      ]
    },
    {
      "cell_type": "code",
      "execution_count": null,
      "metadata": {
        "colab": {
          "base_uri": "https://localhost:8080/"
        },
        "id": "ZWKCUsgWvbKs",
        "outputId": "eb49f414-31c4-4a07-aa28-211208d5ccf9"
      },
      "outputs": [
        {
          "name": "stdout",
          "output_type": "stream",
          "text": [
            "P\n",
            "n\n",
            "Pyt\n"
          ]
        }
      ],
      "source": [
        "s = \"Python\"\n",
        "print(s[0])\n",
        "print(s[-1])\n",
        "print(s[0:3])\n"
      ]
    },
    {
      "cell_type": "code",
      "execution_count": null,
      "metadata": {
        "colab": {
          "base_uri": "https://localhost:8080/"
        },
        "id": "oUSslRodv5r8",
        "outputId": "611c30b9-8eed-4f69-dffd-c1e465fc887e"
      },
      "outputs": [
        {
          "name": "stdout",
          "output_type": "stream",
          "text": [
            "My name is Shivam and I'm 21 years old.\n"
          ]
        }
      ],
      "source": [
        "name = \"Shivam\"\n",
        "age = 21\n",
        "print(f\"My name is {name} and I'm {age} years old.\")\n"
      ]
    },
    {
      "cell_type": "code",
      "execution_count": null,
      "metadata": {
        "colab": {
          "base_uri": "https://localhost:8080/"
        },
        "id": "kpRKwW6awdlT",
        "outputId": "6eb1b801-b79e-46c5-b7a0-e9be745ad64f"
      },
      "outputs": [
        {
          "name": "stdout",
          "output_type": "stream",
          "text": [
            "Hello, Python!\n",
            "  hello, python!  \n",
            "  Hello, World!  \n",
            "['  Hello', ' Python!  ']\n"
          ]
        }
      ],
      "source": [
        "text = \"  Hello, Python!  \"\n",
        "print(text.strip())\n",
        "print(text.lower())\n",
        "print(text.replace(\"Python\", \"World\"))\n",
        "print(text.split(\",\"))\n"
      ]
    },
    {
      "cell_type": "code",
      "execution_count": null,
      "metadata": {
        "colab": {
          "base_uri": "https://localhost:8080/"
        },
        "id": "mbBuC2WeyOrq",
        "outputId": "b45d36c9-1438-4b10-bdd1-969fc28d0c71"
      },
      "outputs": [
        {
          "name": "stdout",
          "output_type": "stream",
          "text": [
            "Hello Colab World!\n"
          ]
        }
      ],
      "source": [
        "# read to a file\n",
        "\n",
        "file = open('/content/SimpleText.txt', 'r')\n",
        "\n",
        "content = file.read()\n",
        "print(content)"
      ]
    },
    {
      "cell_type": "code",
      "execution_count": null,
      "metadata": {
        "colab": {
          "base_uri": "https://localhost:8080/"
        },
        "id": "940db990",
        "outputId": "fe96720c-1fd2-483c-80e2-9d218e54cffd"
      },
      "outputs": [
        {
          "output_type": "stream",
          "name": "stdout",
          "text": [
            "Content of the file:\n",
            "This the first time im writing into a file.\n",
            "Writing  Second line .\n"
          ]
        }
      ],
      "source": [
        "#write into a file\n",
        "# Open a file in write mode ('w')\n",
        "# This will create the file if it doesn't exist, or overwrite it if it does.\n",
        "with open('/content/SimpleText.txt', 'w') as f:\n",
        "    f.write(\"This the first time im writing into a file.\\n\")\n",
        "    f.write(\"Writing  Second line .\")\n",
        "# Open the file in read mode ('r') to read its content\n",
        "with open('/content/SimpleText.txt', 'r') as f:\n",
        "    content = f.read()\n",
        "    print(\"Content of the file:\")\n",
        "    print(content)"
      ]
    },
    {
      "cell_type": "code",
      "execution_count": null,
      "metadata": {
        "colab": {
          "base_uri": "https://localhost:8080/"
        },
        "id": "7nXaEixd7TLB",
        "outputId": "66691a58-0df6-451f-98c1-b4f36fb499df"
      },
      "outputs": [
        {
          "output_type": "stream",
          "name": "stdout",
          "text": [
            "Done! 0 frames saved in 'frames' folder.\n"
          ]
        }
      ],
      "source": [
        "#video handling\n",
        "import cv2\n",
        "import os\n",
        "\n",
        "# Load the video\n",
        "cap = cv2.VideoCapture('/content/14110260_3246_2160_25fps.mp4')\n",
        "\n",
        "# Create output folder for frames\n",
        "output_folder = 'frames'\n",
        "os.makedirs(output_folder, exist_ok=True)\n",
        "\n",
        "frame_num = 0\n",
        "\n",
        "while cap.isOpened():\n",
        "    ret, frame = cap.read()\n",
        "    if not ret:\n",
        "        break\n",
        "\n",
        "    # Save current frame as an image\n",
        "    frame_filename = os.path.join(output_folder, f'frame_{frame_num:04d}.jpg')\n",
        "    cv2.imwrite(frame_filename, frame)\n",
        "\n",
        "    frame_num += 1\n",
        "\n",
        "cap.release()\n",
        "print(f\"Done! {frame_num} frames saved in '{output_folder}' folder.\")\n"
      ]
    },
    {
      "cell_type": "code",
      "execution_count": null,
      "metadata": {
        "id": "inih7wfo9EKQ"
      },
      "outputs": [],
      "source": [
        "import cv2\n",
        "from google.colab.patches import cv2_imshow\n",
        "\n",
        "# Open the video file\n",
        "cap = cv2.VideoCapture('/content/14110260_3246_2160_25fps.mp4')\n",
        "\n",
        "while cap.isOpened():\n",
        "    ret, frame = cap.read()\n",
        "    if not ret:\n",
        "        break\n",
        "\n",
        "    # Show frame in a window using cv2_imshow\n",
        "    cv2_imshow(frame)\n",
        "\n",
        "    # Press 'q' to quit early\n",
        "    # cv2.waitKey is also disabled in Colab, so this part won't work as expected\n",
        "    # in this environment for real-time display interaction.\n",
        "    # However, if you were saving frames or processing, waitKey might be used differently.\n",
        "    # if cv2.waitKey(25) & 0xFF == ord('q'):\n",
        "    #     break\n",
        "\n",
        "cap.release()\n",
        "# cv2.destroyAllWindows() # Also not needed as there are no display windows"
      ]
    }
  ],
  "metadata": {
    "colab": {
      "provenance": [],
      "authorship_tag": "ABX9TyNhQuj1gRH3q/DWb69ia33m",
      "include_colab_link": true
    },
    "kernelspec": {
      "display_name": "Python 3",
      "name": "python3"
    },
    "language_info": {
      "name": "python"
    }
  },
  "nbformat": 4,
  "nbformat_minor": 0
}